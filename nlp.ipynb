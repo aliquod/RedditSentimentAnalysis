{
 "cells": [
  {
   "cell_type": "markdown",
   "metadata": {},
   "source": [
    "# Reddit Comment Sentiment Analysis"
   ]
  },
  {
   "cell_type": "code",
   "execution_count": 31,
   "metadata": {},
   "outputs": [],
   "source": [
    "import tensorflow as tf\n",
    "from keras import models, layers, optimizers, callbacks\n",
    "import numpy as np\n",
    "from tqdm.notebook import tqdm\n",
    "import csv\n",
    "import matplotlib.pyplot as plt\n",
    "from twilio.rest import Client\n",
    "from time import time\n",
    "import datetime"
   ]
  },
  {
   "cell_type": "markdown",
   "metadata": {},
   "source": [
    "## Part I - Load the Dataset"
   ]
  },
  {
   "cell_type": "code",
   "execution_count": 37,
   "metadata": {},
   "outputs": [
    {
     "name": "stdout",
     "output_type": "stream",
     "text": [
      "Found 37249 comments with 37249 labels.\n"
     ]
    }
   ],
   "source": [
    "data_dir = \"./data/Reddit_Data.csv\"\n",
    "\n",
    "comments = []\n",
    "labels = []\n",
    "\n",
    "with open(data_dir, 'r') as reddit:\n",
    "\n",
    "    next(reddit) # the first line is the header\n",
    "\n",
    "    reddit_reader = csv.reader(reddit, delimiter=',')\n",
    "    for comment, label in reddit_reader:\n",
    "        comments.append(comment.strip())\n",
    "        labels.append(label)\n",
    "\n",
    "labels = np.asarray(labels, dtype='int')\n",
    "\n",
    "print(f'Found {len(comments)} comments with {len(labels)} labels.')"
   ]
  },
  {
   "cell_type": "markdown",
   "metadata": {},
   "source": [
    "Then convert the comments into fixed-length sequences by tokenization and padding:"
   ]
  },
  {
   "cell_type": "code",
   "execution_count": 38,
   "metadata": {},
   "outputs": [
    {
     "name": "stdout",
     "output_type": "stream",
     "text": [
      "There are 54719 unique tokens (words) in this dataset.\n",
      "The comments are now stored as a <class 'numpy.ndarray'> of shape (37249, 100)\n"
     ]
    }
   ],
   "source": [
    "from tensorflow.keras.preprocessing.text import Tokenizer\n",
    "from tensorflow.keras.utils import pad_sequences\n",
    "\n",
    "max_length = 100  # each comment is trimmed to be at most 100-words long\n",
    "max_words = 1000  # only the top 1000 most common words are used\n",
    "\n",
    "tokenizer = Tokenizer(num_words=max_words)\n",
    "tokenizer.fit_on_texts(comments)\n",
    "seq_comments = tokenizer.texts_to_sequences(comments)\n",
    "\n",
    "word_index = tokenizer.word_index\n",
    "print(f\"There are {len(word_index)} unique tokens (words) in this dataset.\")\n",
    "\n",
    "data = pad_sequences(seq_comments, maxlen=max_length)\n",
    "\n",
    "print(f\"The comments are now stored as a {str(type(data))} of shape {data.shape}\")"
   ]
  },
  {
   "cell_type": "markdown",
   "metadata": {},
   "source": [
    "Then convert the numerical labels (-1, 0, 1) into one-hot labels:"
   ]
  },
  {
   "cell_type": "code",
   "execution_count": 39,
   "metadata": {},
   "outputs": [
    {
     "data": {
      "application/vnd.jupyter.widget-view+json": {
       "model_id": "4c555e7476be4ae780ef8709dacdb883",
       "version_major": 2,
       "version_minor": 0
      },
      "text/plain": [
       "  0%|          | 0/3 [00:00<?, ?it/s]"
      ]
     },
     "metadata": {},
     "output_type": "display_data"
    },
    {
     "name": "stdout",
     "output_type": "stream",
     "text": [
      "The labels are now stored as a <class 'numpy.ndarray'> of shape (37249, 3)\n"
     ]
    }
   ],
   "source": [
    "def to_one_hot(labels, encoder, dimension=None):\n",
    "    if dimension is None:\n",
    "        dimension = len(set(labels))\n",
    "    results = np.zeros((len(labels), dimension))\n",
    "    for i, label in tqdm(enumerate(labels), total=dimension):\n",
    "        results[i, encoder[label]] = 1.\n",
    "    return results\n",
    "\n",
    "encoder = {i:(i+1) for i in [-1,0,1]}  \n",
    "# the encoder maps the original label to the index of the 1 in its one-hot\n",
    "# that is, a label of 1 corresponds to the one-hot [0,0,1], so it is mapped to 2\n",
    "\n",
    "labels_OH = to_one_hot(labels, encoder)\n",
    "print(f\"The labels are now stored as a {str(type(labels_OH))} of shape {labels_OH.shape}\")"
   ]
  },
  {
   "cell_type": "markdown",
   "metadata": {},
   "source": [
    "## Part II - Preparing the Embedding  \n",
    "First, we load the [GloVe (Global Vectors for Word Representation)](https://nlp.stanford.edu/projects/glove/) embedding into a dictionary containing (<ins>word</ins> : <ins>coefficient</ins>) pairs.  \n",
    "\n",
    "Here we use the 50-dimension version of GloVe (that is, each coefficient vector will contain 50 entries)."
   ]
  },
  {
   "cell_type": "code",
   "execution_count": 36,
   "metadata": {},
   "outputs": [
    {
     "data": {
      "application/vnd.jupyter.widget-view+json": {
       "model_id": "159cce71572c41889b1f44747923243d",
       "version_major": 2,
       "version_minor": 0
      },
      "text/plain": [
       "  0%|          | 0/400000 [00:00<?, ?it/s]"
      ]
     },
     "metadata": {},
     "output_type": "display_data"
    },
    {
     "name": "stdout",
     "output_type": "stream",
     "text": [
      "The embeddings dictionary contains 50-dimension coefficient vectors that represent 400000 words.\n"
     ]
    }
   ],
   "source": [
    "glove_dir = './glove.6B/glove.6B.50d.txt'\n",
    "\n",
    "embeddings = {}\n",
    "with open(glove_dir) as glove:\n",
    "    for line in tqdm(glove, total=400000):\n",
    "        spline = line.split(' ')\n",
    "        word = spline[0]\n",
    "        coef = np.asarray(spline[1:], dtype='float')\n",
    "        embeddings[word] = coef\n",
    "\n",
    "print(f'''The embeddings dictionary contains {embeddings[\"the\"].shape[0]}-dimension coefficient vectors that represent {len(embeddings)} words.''')"
   ]
  },
  {
   "cell_type": "markdown",
   "metadata": {},
   "source": [
    "Then, we collect the coefficients of the most frequent words in our sample, and organize them into a numpy array."
   ]
  },
  {
   "cell_type": "code",
   "execution_count": 40,
   "metadata": {},
   "outputs": [],
   "source": [
    "# the following function is adapted from Francois Chollet's book\n",
    "\n",
    "embedding_matrix = np.zeros((max_words, 50))  # each row is the 50-dimensional GloVe embedding of a word\n",
    "\n",
    "for word, index in word_index.items():\n",
    "    if index < max_words:  # if the word is among the top 10000 most frequent words\n",
    "        embedding = embeddings.get(word)\n",
    "        if embedding is not None:\n",
    "            embedding_matrix[index,:] = embedding"
   ]
  },
  {
   "cell_type": "markdown",
   "metadata": {},
   "source": [
    "Finally, we shuffle the data and split it into a train and a validation set."
   ]
  },
  {
   "cell_type": "code",
   "execution_count": 41,
   "metadata": {},
   "outputs": [],
   "source": [
    "shuffled = np.random.permutation(range(len(labels)))\n",
    "shuffled_comments = data[shuffled]\n",
    "shuffled_labels = labels_OH[shuffled]"
   ]
  },
  {
   "cell_type": "code",
   "execution_count": 42,
   "metadata": {},
   "outputs": [
    {
     "name": "stdout",
     "output_type": "stream",
     "text": [
      "The training set contains 29799 (80%) samples,\n",
      "while the validation contains the remaining 7450 (80%).\n"
     ]
    }
   ],
   "source": [
    "n_samples = len(labels)\n",
    "\n",
    "train_proportion = 0.8\n",
    "train_size = int(np.round(n_samples * train_proportion))\n",
    "\n",
    "train_data = shuffled_comments[:train_size]\n",
    "train_labels = shuffled_labels[:train_size]\n",
    "\n",
    "valid_data = shuffled_comments[train_size:]\n",
    "valid_labels = shuffled_labels[train_size:]\n",
    "\n",
    "print(f'''The training set contains {train_size} ({int(100*train_proportion)}%) samples,\n",
    "while the validation contains the remaining {n_samples-train_size} ({int(100*train_proportion)}%).''')"
   ]
  },
  {
   "cell_type": "markdown",
   "metadata": {},
   "source": [
    "## Part III - Building the Model"
   ]
  },
  {
   "cell_type": "code",
   "execution_count": 43,
   "metadata": {},
   "outputs": [
    {
     "name": "stdout",
     "output_type": "stream",
     "text": [
      "Model: \"sequential_6\"\n",
      "_________________________________________________________________\n",
      " Layer (type)                Output Shape              Param #   \n",
      "=================================================================\n",
      " embedding_6 (Embedding)     (None, 100, 50)           50000     \n",
      "                                                                 \n",
      " conv1d_6 (Conv1D)           (None, 94, 32)            11232     \n",
      "                                                                 \n",
      " max_pooling1d_6 (MaxPooling  (None, 31, 32)           0         \n",
      " 1D)                                                             \n",
      "                                                                 \n",
      " bidirectional_24 (Bidirecti  (None, 31, 32)           6272      \n",
      " onal)                                                           \n",
      "                                                                 \n",
      " bidirectional_25 (Bidirecti  (None, 31, 32)           6272      \n",
      " onal)                                                           \n",
      "                                                                 \n",
      " bidirectional_26 (Bidirecti  (None, 31, 32)           6272      \n",
      " onal)                                                           \n",
      "                                                                 \n",
      " bidirectional_27 (Bidirecti  (None, 32)               6272      \n",
      " onal)                                                           \n",
      "                                                                 \n",
      " dense_6 (Dense)             (None, 3)                 99        \n",
      "                                                                 \n",
      "=================================================================\n",
      "Total params: 86,419\n",
      "Trainable params: 86,419\n",
      "Non-trainable params: 0\n",
      "_________________________________________________________________\n"
     ]
    }
   ],
   "source": [
    "model = models.Sequential([\n",
    "    layers.Embedding(max_words, 50, input_length=max_length),\n",
    "    layers.Conv1D(32, 7, activation='relu'),\n",
    "    layers.MaxPooling1D(3),\n",
    "    layers.Bidirectional(layers.LSTM(16, return_sequences=True, recurrent_regularizer='l1')),\n",
    "    layers.Bidirectional(layers.LSTM(16, return_sequences=True, recurrent_regularizer='l1')),\n",
    "    layers.Bidirectional(layers.LSTM(16, return_sequences=True, recurrent_regularizer='l1')),\n",
    "    layers.Bidirectional(layers.LSTM(16, recurrent_regularizer='l1')),\n",
    "    layers.Dense(3, activation='softmax')\n",
    "])\n",
    "\n",
    "model.layers[0].set_weights([embedding_matrix])\n",
    "model.layers[0].trainable = True\n",
    "\n",
    "model.summary()"
   ]
  },
  {
   "cell_type": "code",
   "execution_count": 44,
   "metadata": {},
   "outputs": [],
   "source": [
    "model.compile(loss='categorical_crossentropy',\n",
    "            optimizer='Adam',\n",
    "            metrics=['acc'])\n",
    "\n",
    "log_dir = 'logs'"
   ]
  },
  {
   "cell_type": "markdown",
   "metadata": {},
   "source": [
    "Building the CallBack list:"
   ]
  },
  {
   "cell_type": "code",
   "execution_count": 45,
   "metadata": {},
   "outputs": [],
   "source": [
    "# this is a bot that sends WhatsApp messages about each epoch\n",
    "# if you have a Twilio account, replace the sid and token with your own, as well as the phone numbers;\n",
    "# if not, just remove it from the call back list\n",
    "\n",
    "def message_me(message='EMPTY',\n",
    "                sid='YOUR_SID', \n",
    "                token='YOUR_AUTH_TOKEN'):\n",
    "\n",
    "    client = Client(sid, token)\n",
    "\n",
    "    message = client.messages \\\n",
    "        .create(\n",
    "            body=message,\n",
    "            from_='whatsapp:YOUR_TWILIO_NUMBER',\n",
    "            to='whatsapp:YOUR_OWN_NUMBER'\n",
    "        )\n",
    "\n",
    "    return message.sid\n",
    "\n",
    "class message_updates(callbacks.Callback):\n",
    "\n",
    "    def __init__(self):\n",
    "        self.previousvac = 0\n",
    "        self.bestvac = 0\n",
    "        self.improving = True\n",
    "        self.streak = 0\n",
    "        message_me(message='='*5+' NEW INSTANCE '+'='*5)\n",
    "\n",
    "    def on_epoch_begin(self, epoch, logs={}):\n",
    "        self.starttime=time()\n",
    "    \n",
    "    def on_epoch_end(self, epoch, logs={}):\n",
    "        vac = round(logs['val_acc'], 4)\n",
    "\n",
    "        # records consistent improvement/degradation:\n",
    "        if (self.previousvac < vac) == self.improving:\n",
    "            self.streak += 1\n",
    "        else:\n",
    "            self.improving = not self.improving\n",
    "            self.streak = 1\n",
    "        self.previousvac = vac\n",
    "\n",
    "        if self.bestvac < vac:\n",
    "            self.bestvac = vac\n",
    "            current_best = True\n",
    "        else:\n",
    "            current_best = False\n",
    "\n",
    "        arr =  \"⤒\" if current_best else ('↑' if self.improving else '↓')\n",
    "        accuracy_report = f'{vac} ({str(self.streak)+arr})'\n",
    "\n",
    "        lr = round(float(self.model.optimizer.lr), 4)\n",
    "\n",
    "        epoch_length = round(time()-self.starttime)\n",
    "        format_length = str(datetime.timedelta(seconds=epoch_length))\n",
    "\n",
    "        message = (f\"EPOCH {epoch+1}\\n\" + f\"• Validation Accuracy : {accuracy_report}\\n\"\n",
    "        + f\"• Time : {format_length}s\\n\"\n",
    "        + f\"• Learning Rate : {lr}\")\n",
    "\n",
    "        message_me(message)\n",
    "        \n",
    "        return\n",
    "\n",
    "callback_list = [\n",
    "    callbacks.TensorBoard(\n",
    "        log_dir = log_dir,\n",
    "        histogram_freq = 1,\n",
    "        embeddings_freq = 1),\n",
    "    callbacks.ModelCheckpoint(\n",
    "       filepath = 'BestModel.h5',\n",
    "       monitor = 'val_loss',\n",
    "       save_best_only = True),\n",
    "    callbacks.EarlyStopping(\n",
    "        monitor = 'val_acc',\n",
    "        patience = 4),\n",
    "    callbacks.ReduceLROnPlateau(\n",
    "        monitor = 'val_loss',\n",
    "        factor = 0.1,\n",
    "        patience = 4),\n",
    "    message_updates()\n",
    "    ]"
   ]
  },
  {
   "cell_type": "markdown",
   "metadata": {},
   "source": [
    "Finally, we fit the model and verify it on validation data."
   ]
  },
  {
   "cell_type": "code",
   "execution_count": 46,
   "metadata": {},
   "outputs": [
    {
     "name": "stdout",
     "output_type": "stream",
     "text": [
      "Epoch 1/40\n"
     ]
    },
    {
     "name": "stderr",
     "output_type": "stream",
     "text": [
      "2022-10-17 23:26:29.954105: I tensorflow/core/grappler/optimizers/custom_graph_optimizer_registry.cc:113] Plugin optimizer for device_type GPU is enabled.\n",
      "2022-10-17 23:26:40.145720: I tensorflow/core/grappler/optimizers/custom_graph_optimizer_registry.cc:113] Plugin optimizer for device_type GPU is enabled.\n",
      "2022-10-17 23:26:40.198652: I tensorflow/core/grappler/optimizers/custom_graph_optimizer_registry.cc:113] Plugin optimizer for device_type GPU is enabled.\n",
      "2022-10-17 23:26:43.890529: I tensorflow/core/grappler/optimizers/custom_graph_optimizer_registry.cc:113] Plugin optimizer for device_type GPU is enabled.\n",
      "2022-10-17 23:26:43.923230: I tensorflow/core/grappler/optimizers/custom_graph_optimizer_registry.cc:113] Plugin optimizer for device_type GPU is enabled.\n",
      "2022-10-17 23:26:44.612762: I tensorflow/core/grappler/optimizers/custom_graph_optimizer_registry.cc:113] Plugin optimizer for device_type GPU is enabled.\n",
      "2022-10-17 23:26:44.658869: I tensorflow/core/grappler/optimizers/custom_graph_optimizer_registry.cc:113] Plugin optimizer for device_type GPU is enabled.\n",
      "2022-10-17 23:26:47.602522: I tensorflow/core/grappler/optimizers/custom_graph_optimizer_registry.cc:113] Plugin optimizer for device_type GPU is enabled.\n",
      "2022-10-17 23:26:47.631124: I tensorflow/core/grappler/optimizers/custom_graph_optimizer_registry.cc:113] Plugin optimizer for device_type GPU is enabled.\n",
      "2022-10-17 23:26:48.476377: I tensorflow/core/grappler/optimizers/custom_graph_optimizer_registry.cc:113] Plugin optimizer for device_type GPU is enabled.\n",
      "2022-10-17 23:26:48.517703: I tensorflow/core/grappler/optimizers/custom_graph_optimizer_registry.cc:113] Plugin optimizer for device_type GPU is enabled.\n",
      "2022-10-17 23:26:49.784759: I tensorflow/core/grappler/optimizers/custom_graph_optimizer_registry.cc:113] Plugin optimizer for device_type GPU is enabled.\n",
      "2022-10-17 23:26:49.824254: I tensorflow/core/grappler/optimizers/custom_graph_optimizer_registry.cc:113] Plugin optimizer for device_type GPU is enabled.\n",
      "2022-10-17 23:26:53.357282: I tensorflow/core/grappler/optimizers/custom_graph_optimizer_registry.cc:113] Plugin optimizer for device_type GPU is enabled.\n",
      "2022-10-17 23:26:53.419912: I tensorflow/core/grappler/optimizers/custom_graph_optimizer_registry.cc:113] Plugin optimizer for device_type GPU is enabled.\n",
      "2022-10-17 23:26:56.923897: I tensorflow/core/grappler/optimizers/custom_graph_optimizer_registry.cc:113] Plugin optimizer for device_type GPU is enabled.\n",
      "2022-10-17 23:26:56.971679: I tensorflow/core/grappler/optimizers/custom_graph_optimizer_registry.cc:113] Plugin optimizer for device_type GPU is enabled.\n"
     ]
    },
    {
     "name": "stdout",
     "output_type": "stream",
     "text": [
      "  6/233 [..............................] - ETA: 12:26 - loss: 9.0971 - acc: 0.3906WARNING:tensorflow:Callback method `on_train_batch_end` is slow compared to the batch time (batch time: 3.2193s vs `on_train_batch_end` time: 6.4120s). Check your callbacks.\n"
     ]
    },
    {
     "name": "stderr",
     "output_type": "stream",
     "text": [
      "WARNING:tensorflow:Callback method `on_train_batch_end` is slow compared to the batch time (batch time: 3.2193s vs `on_train_batch_end` time: 6.4120s). Check your callbacks.\n"
     ]
    },
    {
     "name": "stdout",
     "output_type": "stream",
     "text": [
      "233/233 [==============================] - ETA: 0s - loss: 3.6262 - acc: 0.6076"
     ]
    },
    {
     "name": "stderr",
     "output_type": "stream",
     "text": [
      "2022-10-17 23:29:29.120243: I tensorflow/core/grappler/optimizers/custom_graph_optimizer_registry.cc:113] Plugin optimizer for device_type GPU is enabled.\n",
      "2022-10-17 23:29:31.289541: I tensorflow/core/grappler/optimizers/custom_graph_optimizer_registry.cc:113] Plugin optimizer for device_type GPU is enabled.\n",
      "2022-10-17 23:29:31.323195: I tensorflow/core/grappler/optimizers/custom_graph_optimizer_registry.cc:113] Plugin optimizer for device_type GPU is enabled.\n",
      "2022-10-17 23:29:32.112427: I tensorflow/core/grappler/optimizers/custom_graph_optimizer_registry.cc:113] Plugin optimizer for device_type GPU is enabled.\n",
      "2022-10-17 23:29:32.136157: I tensorflow/core/grappler/optimizers/custom_graph_optimizer_registry.cc:113] Plugin optimizer for device_type GPU is enabled.\n",
      "2022-10-17 23:29:32.857585: I tensorflow/core/grappler/optimizers/custom_graph_optimizer_registry.cc:113] Plugin optimizer for device_type GPU is enabled.\n",
      "2022-10-17 23:29:32.885292: I tensorflow/core/grappler/optimizers/custom_graph_optimizer_registry.cc:113] Plugin optimizer for device_type GPU is enabled.\n",
      "2022-10-17 23:29:33.782734: I tensorflow/core/grappler/optimizers/custom_graph_optimizer_registry.cc:113] Plugin optimizer for device_type GPU is enabled.\n",
      "2022-10-17 23:29:33.806149: I tensorflow/core/grappler/optimizers/custom_graph_optimizer_registry.cc:113] Plugin optimizer for device_type GPU is enabled.\n"
     ]
    },
    {
     "name": "stdout",
     "output_type": "stream",
     "text": [
      "233/233 [==============================] - 205s 549ms/step - loss: 3.6262 - acc: 0.6076 - val_loss: 1.0159 - val_acc: 0.6620 - lr: 0.0010\n",
      "Epoch 2/40\n",
      "233/233 [==============================] - 78s 331ms/step - loss: 0.7546 - acc: 0.7109 - val_loss: 0.6694 - val_acc: 0.7373 - lr: 0.0010\n",
      "Epoch 3/40\n",
      "233/233 [==============================] - 71s 304ms/step - loss: 0.6178 - acc: 0.7663 - val_loss: 0.6350 - val_acc: 0.7608 - lr: 0.0010\n",
      "Epoch 4/40\n",
      "233/233 [==============================] - 71s 304ms/step - loss: 0.5701 - acc: 0.7939 - val_loss: 0.6287 - val_acc: 0.7626 - lr: 0.0010\n",
      "Epoch 5/40\n",
      "233/233 [==============================] - 107s 457ms/step - loss: 0.5433 - acc: 0.8068 - val_loss: 0.6232 - val_acc: 0.7616 - lr: 0.0010\n",
      "Epoch 6/40\n",
      "233/233 [==============================] - 119s 505ms/step - loss: 0.5225 - acc: 0.8170 - val_loss: 0.6307 - val_acc: 0.7634 - lr: 0.0010\n",
      "Epoch 7/40\n",
      "233/233 [==============================] - 142s 606ms/step - loss: 0.5002 - acc: 0.8267 - val_loss: 0.6457 - val_acc: 0.7706 - lr: 0.0010\n",
      "Epoch 8/40\n",
      "233/233 [==============================] - 88s 358ms/step - loss: 0.4787 - acc: 0.8363 - val_loss: 0.6361 - val_acc: 0.7671 - lr: 0.0010\n",
      "Epoch 9/40\n",
      "233/233 [==============================] - 102s 439ms/step - loss: 0.4585 - acc: 0.8464 - val_loss: 0.6666 - val_acc: 0.7603 - lr: 0.0010\n",
      "Epoch 10/40\n",
      "233/233 [==============================] - 117s 497ms/step - loss: 0.4042 - acc: 0.8696 - val_loss: 0.6898 - val_acc: 0.7534 - lr: 1.0000e-04\n",
      "Epoch 11/40\n",
      "233/233 [==============================] - 89s 378ms/step - loss: 0.3933 - acc: 0.8741 - val_loss: 0.7007 - val_acc: 0.7513 - lr: 1.0000e-04\n"
     ]
    },
    {
     "name": "stderr",
     "output_type": "stream",
     "text": [
      "WARNING:absl:Found untraced functions such as _jit_compiled_convolution_op, lstm_cell_73_layer_call_fn, lstm_cell_73_layer_call_and_return_conditional_losses, lstm_cell_74_layer_call_fn, lstm_cell_74_layer_call_and_return_conditional_losses while saving (showing 5 of 17). These functions will not be directly callable after loading.\n"
     ]
    },
    {
     "name": "stdout",
     "output_type": "stream",
     "text": [
      "INFO:tensorflow:Assets written to: reddit_sentiment/assets\n"
     ]
    },
    {
     "name": "stderr",
     "output_type": "stream",
     "text": [
      "INFO:tensorflow:Assets written to: reddit_sentiment/assets\n"
     ]
    },
    {
     "data": {
      "text/plain": [
       "'SM82cff7467a23fe9a7be7339433748863'"
      ]
     },
     "execution_count": 46,
     "metadata": {},
     "output_type": "execute_result"
    }
   ],
   "source": [
    "history = model.fit(train_data, train_labels,\n",
    "                    epochs = 40,\n",
    "                    batch_size = 128,\n",
    "                    validation_data =  (valid_data, valid_labels),\n",
    "                    validation_batch_size= 128,\n",
    "                    callbacks = callback_list)\n",
    "\n",
    "save_dir = 'FinalModel'\n",
    "model.save(save_dir)\n",
    "message_me(message = '='*5 + ' TRAINING ENDS ' + '='*5)"
   ]
  },
  {
   "cell_type": "markdown",
   "metadata": {},
   "source": [
    "### Inspecting the Model"
   ]
  },
  {
   "cell_type": "markdown",
   "metadata": {},
   "source": [
    "Plotting the accuracies and losses:"
   ]
  },
  {
   "cell_type": "code",
   "execution_count": 47,
   "metadata": {},
   "outputs": [
    {
     "data": {
      "image/png": "[encoded data removed]",
      "text/plain": [
       "<Figure size 432x288 with 2 Axes>"
      ]
     },
     "metadata": {
      "needs_background": "light"
     },
     "output_type": "display_data"
    }
   ],
   "source": [
    "# the following function is adapted from Francois Chollet's book\n",
    "\n",
    "def plot_performance(history):\n",
    "    acc = history.history['acc']\n",
    "    val_acc = history.history['val_acc']\n",
    "    loss = history.history['loss']\n",
    "    val_loss = history.history['val_loss']\n",
    "    epochs = range(1, len(acc) + 1)\n",
    "    plt.subplot(1,2,1)\n",
    "    plt.plot(epochs, acc, 'C7')\n",
    "    plt.plot(epochs, val_acc, 'C0')\n",
    "    plt.title('Accuracy')\n",
    "    plt.subplot(1,2,2)\n",
    "    plt.plot(epochs, loss, 'C7', label='Training')\n",
    "    plt.plot(epochs, val_loss, 'C0', label='Validation')\n",
    "    plt.title('Loss')\n",
    "    plt.legend()\n",
    "    plt.tight_layout()\n",
    "    plt.show()\n",
    "\n",
    "plot_performance(history)"
   ]
  },
  {
   "cell_type": "code",
   "execution_count": 18,
   "metadata": {},
   "outputs": [
    {
     "data": {
      "text/plain": [
       "Reusing TensorBoard on port 8088 (pid 19224), started 1 day, 22:15:41 ago. (Use '!kill 19224' to kill it.)"
      ]
     },
     "metadata": {},
     "output_type": "display_data"
    },
    {
     "data": {
      "text/html": [
       "\n",
       "      <iframe id=\"tensorboard-frame-b35232ffc5988e71\" width=\"100%\" height=\"800\" frameborder=\"0\">\n",
       "      </iframe>\n",
       "      <script>\n",
       "        (function() {\n",
       "          const frame = document.getElementById(\"tensorboard-frame-b35232ffc5988e71\");\n",
       "          const url = new URL(\"http://localhost\");\n",
       "          const port = 8088;\n",
       "          if (port) {\n",
       "            url.port = port;\n",
       "          }\n",
       "          frame.src = url;\n",
       "        })();\n",
       "      </script>\n",
       "    "
      ],
      "text/plain": [
       "<IPython.core.display.HTML object>"
      ]
     },
     "metadata": {},
     "output_type": "display_data"
    }
   ],
   "source": [
    "%load_ext tensorboard\n",
    "%tensorboard --logdir=logs --host localhost --port 8008\n",
    "\n",
    "# visit localhost:8088 to explore the model with tensorboard"
   ]
  }
 ],
 "metadata": {
  "kernelspec": {
   "display_name": "Python 3.8.13 (conda)",
   "language": "python",
   "name": "python3"
  },
  "language_info": {
   "codemirror_mode": {
    "name": "ipython",
    "version": 3
   },
   "file_extension": ".py",
   "mimetype": "text/x-python",
   "name": "python",
   "nbconvert_exporter": "python",
   "pygments_lexer": "ipython3",
   "version": "3.8.13"
  },
  "orig_nbformat": 4,
  "vscode": {
   "interpreter": {
    "hash": "3b707ad189c9274201b9a1b83366a82a1e5f8bd04623a5337e64efea24d0192d"
   }
  }
 },
 "nbformat": 4,
 "nbformat_minor": 2
}
